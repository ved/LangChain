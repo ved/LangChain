{
 "cells": [
  {
   "cell_type": "code",
   "execution_count": 11,
   "id": "43b38143",
   "metadata": {},
   "outputs": [],
   "source": [
    "import getpass\n",
    "import os\n",
    "\n",
    "try:\n",
    "    # load environment variables from .env file (requires `python-dotenv`)\n",
    "    from dotenv import load_dotenv\n",
    "\n",
    "    load_dotenv()\n",
    "except ImportError:\n",
    "    pass\n",
    "\n",
    "os.environ[\"LANGSMITH_TRACING\"] = \"true\"\n",
    "if \"LANGSMITH_API_KEY\" not in os.environ:\n",
    "    os.environ[\"LANGSMITH_API_KEY\"] = getpass.getpass(\n",
    "        prompt=\"Enter your LangSmith API key (optional): \"\n",
    "    )\n",
    "if \"LANGSMITH_PROJECT\" not in os.environ:\n",
    "    os.environ[\"LANGSMITH_PROJECT\"] = getpass.getpass(\n",
    "        prompt='Enter your LangSmith Project Name (default = \"default\"): '\n",
    "    )\n",
    "    if not os.environ.get(\"LANGSMITH_PROJECT\"):\n",
    "        os.environ[\"LANGSMITH_PROJECT\"] = \"default\"\n",
    "if \"OPENAI_API_KEY\" not in os.environ:\n",
    "    os.environ[\"OPENAI_API_KEY\"] = getpass.getpass(\n",
    "        prompt=\"Enter your OpenAI API key (required if using OpenAI): \"\n",
    "    )"
   ]
  },
  {
   "cell_type": "code",
   "execution_count": 12,
   "id": "c754f045",
   "metadata": {},
   "outputs": [],
   "source": [
    "from langchain_ollama import ChatOllama\n",
    "llm=ChatOllama(\n",
    "    model=\"gemma3\",\n",
    "    temperature=0\n",
    ")#model is ready to use"
   ]
  },
  {
   "cell_type": "code",
   "execution_count": null,
   "id": "82023919",
   "metadata": {},
   "outputs": [],
   "source": [
    "from langchain_core.messages import SystemMessage, HumanMessage\n",
    "#here langchain will standardize the messages using the SystemMessage and HumanMessage classes\n",
    "messages=[SystemMessage(content=\"You are a helpful assistant.\"),HumanMessage(content=\"What is the capital of France?\")]\n",
    "llm.invoke(messages)"
   ]
  },
  {
   "cell_type": "code",
   "execution_count": null,
   "id": "d2dfd6db",
   "metadata": {},
   "outputs": [
    {
     "name": "stdout",
     "output_type": "stream",
     "text": [
      "The capital of Maharashtra is **Mumbai**. \n",
      "\n",
      "It’s a really important city – a major financial hub and a vibrant cultural center! \n",
      "\n",
      "Do you want to know anything more about Mumbai or Maharashtra?\n"
     ]
    }
   ],
   "source": [
    "#now standardizing the prompt template\n",
    "from langchain_core.prompts import ChatPromptTemplate\n",
    "system_template=\"You are a citizen of {country}\"\n",
    "human_template=\"What is the capital of {state}?\"\n",
    "prompt_template=ChatPromptTemplate.from_messages([(\"system\",system_template),(\"human\",human_template)])\n",
    "#now we can use the prompt template to create a prompt\n",
    "prompt = prompt_template.invoke({\"country\":\"India\",\"state\":\"Maharashtra\"})\n",
    "#prompt.to_messages()\n",
    "\n",
    "response = llm.invoke(prompt)\n",
    "print (response.content)\n"
   ]
  }
 ],
 "metadata": {
  "kernelspec": {
   "display_name": "Python 3",
   "language": "python",
   "name": "python3"
  },
  "language_info": {
   "codemirror_mode": {
    "name": "ipython",
    "version": 3
   },
   "file_extension": ".py",
   "mimetype": "text/x-python",
   "name": "python",
   "nbconvert_exporter": "python",
   "pygments_lexer": "ipython3",
   "version": "3.10.11"
  }
 },
 "nbformat": 4,
 "nbformat_minor": 5
}
